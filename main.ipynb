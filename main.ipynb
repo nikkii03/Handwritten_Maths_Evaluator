{
  "nbformat": 4,
  "nbformat_minor": 0,
  "metadata": {
    "colab": {
      "name": "main.ipynb",
      "provenance": [],
      "include_colab_link": true
    },
    "kernelspec": {
      "name": "python3",
      "display_name": "Python 3"
    },
    "language_info": {
      "name": "python"
    }
  },
  "cells": [
    {
      "cell_type": "markdown",
      "metadata": {
        "id": "view-in-github",
        "colab_type": "text"
      },
      "source": [
        "<a href=\"https://colab.research.google.com/github/nikkii03/Handwritten_Maths_Evaluator/blob/main/main.ipynb\" target=\"_parent\"><img src=\"https://colab.research.google.com/assets/colab-badge.svg\" alt=\"Open In Colab\"/></a>"
      ]
    },
    {
      "cell_type": "markdown",
      "metadata": {
        "id": "egitSkgbaqFe"
      },
      "source": [
        "## Importing the libraries"
      ]
    },
    {
      "cell_type": "code",
      "metadata": {
        "id": "u_sZwphsYj-j"
      },
      "source": [
        "import pandas as pd\n",
        "import numpy as np\n",
        "import seaborn as sns\n",
        "from sklearn.model_selection import train_test_split\n",
        "from keras.utils.np_utils import to_categorical\n",
        "import matplotlib.pyplot as plt\n",
        "\n",
        "from keras.models import Sequential\n",
        "from keras.layers import Dense, Dropout, Flatten, Conv2D, MaxPool2D\n",
        "from tensorflow.keras.optimizers import RMSprop\n",
        "from keras.preprocessing.image import ImageDataGenerator\n",
        "from keras.callbacks import ReduceLROnPlateau\n",
        "from tensorflow import keras"
      ],
      "execution_count": null,
      "outputs": []
    },
    {
      "cell_type": "markdown",
      "metadata": {
        "id": "OwvNaEOeYrxI"
      },
      "source": [
        "## Loading the dataset"
      ]
    },
    {
      "cell_type": "code",
      "metadata": {
        "id": "gD6afiQjYzTm"
      },
      "source": [
        "equation_dataset = pd.read_csv(\"dataset.csv\")                   #importing the datset\n",
        "\n",
        "y = equation_dataset[\"label\"]                                   #creating label\n",
        "X = equation_dataset.drop(labels = [\"label\"], axis = 1)         #dropping label\n",
        "\n",
        "del equation_dataset                                            #deleting dataset to reduce memory usage"
      ],
      "execution_count": null,
      "outputs": []
    },
    {
      "cell_type": "markdown",
      "metadata": {
        "id": "Wwfx2peQZFuZ"
      },
      "source": [
        "## Overview of the dataset"
      ]
    },
    {
      "cell_type": "code",
      "metadata": {
        "colab": {
          "base_uri": "https://localhost:8080/",
          "height": 475
        },
        "id": "puNIN8Z3ZQgJ",
        "outputId": "251cfb52-170f-4976-f9a2-db89cf8401e2"
      },
      "source": [
        "g = sns.countplot(y)\n",
        "y.value_counts()\n",
        "\n",
        "print(X.head())"
      ],
      "execution_count": null,
      "outputs": [
        {
          "output_type": "stream",
          "name": "stderr",
          "text": [
            "/usr/local/lib/python3.7/dist-packages/seaborn/_decorators.py:43: FutureWarning: Pass the following variable as a keyword arg: x. From version 0.12, the only valid positional argument will be `data`, and passing other arguments without an explicit keyword will result in an error or misinterpretation.\n",
            "  FutureWarning\n"
          ]
        },
        {
          "output_type": "stream",
          "name": "stdout",
          "text": [
            "   pixel0  pixel1  pixel2  pixel3  ...  pixel780  pixel781  pixel782  pixel783\n",
            "0       0       0       0       0  ...         0         0         0         0\n",
            "1       2       1       1       1  ...         0         0         0         0\n",
            "2       1       0       0       0  ...         0         0         0         0\n",
            "3       0       0       0       0  ...         0         0         0         0\n",
            "4       0       0       0       0  ...         0         0         0         0\n",
            "\n",
            "[5 rows x 784 columns]\n"
          ]
        },
        {
          "output_type": "display_data",
          "data": {
            "image/png": "[encoded data removed]",
            "text/plain": [
              "<Figure size 432x288 with 1 Axes>"
            ]
          },
          "metadata": {
            "needs_background": "light"
          }
        }
      ]
    },
    {
      "cell_type": "markdown",
      "metadata": {
        "id": "kFa6KEmLZlZ-"
      },
      "source": [
        "## Image processing"
      ]
    },
    {
      "cell_type": "code",
      "metadata": {
        "colab": {
          "base_uri": "https://localhost:8080/",
          "height": 265
        },
        "id": "akKgvAO-ZzKr",
        "outputId": "4663b254-c809-4a38-819c-040857ba50e7"
      },
      "source": [
        "X = X / 255.0                                                           #Grayscale normalization\n",
        "X = X.values.reshape(-1,28,28,1)                                        #Reshaping image\n",
        "\n",
        "y = to_categorical(y, num_classes = 14)                                 #categorical conversion of label\n",
        "\n",
        "random_seed = 2                                                         #Splitting the dataset into test and training data\n",
        "X_train, X_val, y_train, y_val = train_test_split(\n",
        "    X, y, test_size = 0.1 , random_state = random_seed, stratify = y)\n",
        "\n",
        "g = plt.imshow(X[322][:,:,0])                                           #an example"
      ],
      "execution_count": null,
      "outputs": [
        {
          "output_type": "display_data",
          "data": {
            "image/png": "[encoded data removed]",
            "text/plain": [
              "<Figure size 432x288 with 1 Axes>"
            ]
          },
          "metadata": {
            "needs_background": "light"
          }
        }
      ]
    },
    {
      "cell_type": "markdown",
      "metadata": {
        "id": "Wr0-TtOTavFk"
      },
      "source": [
        "## Creating the model"
      ]
    },
    {
      "cell_type": "code",
      "metadata": {
        "colab": {
          "base_uri": "https://localhost:8080/"
        },
        "id": "PQbttdVga3ZO",
        "outputId": "92c4b03b-760e-44ac-9baf-9c71d7a3d549"
      },
      "source": [
        "model = Sequential()\n",
        "\n",
        "#adding layers to the model\n",
        "\n",
        "model.add(Conv2D(filters = 32, kernel_size = (5,5), padding = \"Same\", activation = \"relu\", \n",
        "                 input_shape = (28, 28, 1)))\n",
        "model.add(Conv2D(filters = 32, kernel_size = (5,5), padding = \"Same\", activation = \"relu\"))\n",
        "model.add(MaxPool2D(pool_size = (2,2)))\n",
        "model.add(Dropout(0.25))                                                                     \n",
        "model.add(Conv2D(filters = 64, kernel_size = (3,3), padding = \"Same\", activation = \"relu\"))\n",
        "model.add(Conv2D(filters = 64, kernel_size = (3,3), padding = \"Same\", activation = \"relu\"))\n",
        "model.add(MaxPool2D(pool_size = (2,2)))\n",
        "model.add(Dropout(0.25))                                                                      \n",
        "model.add(Flatten())\n",
        "model.add(Dense(256, activation = \"relu\"))\n",
        "model.add(Dropout(0.25))\n",
        "model.add(Dense(14, activation = \"softmax\"))                                            # fully connected layer and output\n",
        "\n",
        "#Set the optimizer and annealer\n",
        "optimizer = RMSprop(lr = 0.001, rho = 0.9, epsilon = 1e-08, decay=0.0 )\n",
        "model.compile(optimizer = optimizer, loss = \"categorical_crossentropy\", \n",
        "              metrics = [\"accuracy\"])\n",
        "learning_rate_reduction = ReduceLROnPlateau(monitor = \"val_accuracy\",\n",
        "                                            patience = 3,\n",
        "                                            verbose = 1,\n",
        "                                            factor = 0.5,\n",
        "                                            min_lr = 0.0001)\n",
        "\n",
        "#data augmentation\n",
        "datagen = ImageDataGenerator(\n",
        "        featurewise_center=False,                                                       # set input mean to 0 over the dataset\n",
        "        samplewise_center=False,                                                        # set each sample mean to 0\n",
        "        featurewise_std_normalization=False,                                            # divide inputs by std of the dataset\n",
        "        samplewise_std_normalization=False,                                             # divide each input by its std\n",
        "        zca_whitening=False,                                                            # apply ZCA whitening\n",
        "        rotation_range=10,                                                              # randomly rotate images in the range (degrees, 0 to 180)\n",
        "        zoom_range = 0.1,                                                               # Randomly zoom image \n",
        "        width_shift_range=0.1,                                                          # randomly shift images horizontally (fraction of total width)\n",
        "        height_shift_range=0.1,                                                         # randomly shift images vertically (fraction of total height)\n",
        "        horizontal_flip=False,                                                          # randomly flip images\n",
        "        vertical_flip=False)                                                            # randomly flip images\n",
        "\n",
        "datagen.fit(X_train)\n",
        "\n",
        "epochs = 10                                                                             # fitting the model\n",
        "batch_size = 86\n",
        "\n",
        "\n",
        "history = model.fit_generator(  datagen.flow(X_train,y_train, batch_size=batch_size),\n",
        "                                epochs = epochs,                                        # An epoch is an iteration over the entire x and y data provided\n",
        "                                validation_data = (X_val,y_val),                        # Data on which to evaluate the loss and any model metrics at the end of each epoch. \n",
        "                                verbose = 1,                                            # output\n",
        "                                steps_per_epoch=X_train.shape[0] // batch_size,         # Total number of steps (batches of samples) before declaring one epoch finished and starting the next epoch.\n",
        "                                callbacks=[learning_rate_reduction]                            \n",
        "                              )\n",
        "\n",
        "model.save(\"model.h5\")                        #saving the model in HDF5 binary data format"
      ],
      "execution_count": null,
      "outputs": [
        {
          "metadata": {
            "tags": null
          },
          "name": "stderr",
          "output_type": "stream",
          "text": [
            "/usr/local/lib/python3.7/dist-packages/keras/optimizer_v2/optimizer_v2.py:356: UserWarning: The `lr` argument is deprecated, use `learning_rate` instead.\n",
            "  \"The `lr` argument is deprecated, use `learning_rate` instead.\")\n",
            "/usr/local/lib/python3.7/dist-packages/keras/engine/training.py:1972: UserWarning: `Model.fit_generator` is deprecated and will be removed in a future version. Please use `Model.fit`, which supports generators.\n",
            "  warnings.warn('`Model.fit_generator` is deprecated and '\n"
          ]
        },
        {
          "output_type": "stream",
          "name": "stdout",
          "text": [
            "Epoch 1/10\n",
            "896/896 [==============================] - 546s 608ms/step - loss: 0.2621 - accuracy: 0.9194 - val_loss: 0.0695 - val_accuracy: 0.9796\n",
            "Epoch 2/10\n",
            "896/896 [==============================] - 535s 597ms/step - loss: 0.0782 - accuracy: 0.9766 - val_loss: 0.0348 - val_accuracy: 0.9895\n",
            "Epoch 3/10\n",
            "896/896 [==============================] - 527s 588ms/step - loss: 0.0618 - accuracy: 0.9821 - val_loss: 0.0282 - val_accuracy: 0.9921\n",
            "Epoch 4/10\n",
            "896/896 [==============================] - 548s 611ms/step - loss: 0.0582 - accuracy: 0.9832 - val_loss: 0.0339 - val_accuracy: 0.9896\n",
            "Epoch 5/10\n",
            "896/896 [==============================] - 549s 612ms/step - loss: 0.0553 - accuracy: 0.9848 - val_loss: 0.0320 - val_accuracy: 0.9898\n",
            "Epoch 6/10\n",
            "896/896 [==============================] - 548s 612ms/step - loss: 0.0549 - accuracy: 0.9850 - val_loss: 0.0289 - val_accuracy: 0.9917\n",
            "\n",
            "Epoch 00006: ReduceLROnPlateau reducing learning rate to 0.0005000000237487257.\n",
            "Epoch 7/10\n",
            "896/896 [==============================] - 532s 594ms/step - loss: 0.0411 - accuracy: 0.9887 - val_loss: 0.0297 - val_accuracy: 0.9909\n",
            "Epoch 8/10\n",
            "896/896 [==============================] - 536s 598ms/step - loss: 0.0421 - accuracy: 0.9886 - val_loss: 0.0364 - val_accuracy: 0.9896\n",
            "Epoch 9/10\n",
            "896/896 [==============================] - 549s 613ms/step - loss: 0.0421 - accuracy: 0.9884 - val_loss: 0.0212 - val_accuracy: 0.9933\n",
            "Epoch 10/10\n",
            "896/896 [==============================] - 553s 617ms/step - loss: 0.0425 - accuracy: 0.9883 - val_loss: 0.0209 - val_accuracy: 0.9942\n"
          ]
        }
      ]
    }
  ]
}