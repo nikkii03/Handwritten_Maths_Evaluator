{
  "nbformat": 4,
  "nbformat_minor": 0,
  "metadata": {
    "colab": {
      "name": "calculator.ipynb",
      "provenance": [],
      "include_colab_link": true
    },
    "kernelspec": {
      "name": "python3",
      "display_name": "Python 3"
    },
    "language_info": {
      "name": "python"
    }
  },
  "cells": [
    {
      "cell_type": "markdown",
      "metadata": {
        "id": "view-in-github",
        "colab_type": "text"
      },
      "source": [
        "<a href=\"https://colab.research.google.com/github/nikkii03/Handwritten_Maths_Evaluator/blob/main/calculator.ipynb\" target=\"_parent\"><img src=\"https://colab.research.google.com/assets/colab-badge.svg\" alt=\"Open In Colab\"/></a>"
      ]
    },
    {
      "cell_type": "markdown",
      "metadata": {
        "id": "m5vCf7W26fS8"
      },
      "source": [
        "# Calculator\n"
      ]
    },
    {
      "cell_type": "code",
      "metadata": {
        "id": "u_sZwphsYj-j"
      },
      "source": [
        "from tensorflow import keras\n",
        "import numpy as np\n",
        "import matplotlib.pyplot as plt\n",
        "from PIL import Image\n",
        "from itertools import groupby"
      ],
      "execution_count": 23,
      "outputs": []
    },
    {
      "cell_type": "markdown",
      "metadata": {
        "id": "nS7sC87DI_PB"
      },
      "source": [
        "Recognising image and converting it to string"
      ]
    },
    {
      "cell_type": "code",
      "metadata": {
        "id": "PZKQphMa7bhs"
      },
      "source": [
        "def pred(test_image) :\n",
        "  image = Image.open(test_image).convert(\"L\")\n",
        "  width = image.size[0]                                             #resizing to 28 pixels\n",
        "  height = image.size[1]\n",
        "  ratio = width / height\n",
        "  w = int(ratio * 28)\n",
        "  h = 28\n",
        "  new_image = image.resize((w, h))\n",
        "\n",
        "  image_arr = np.array(new_image)                                   #converting to a numpy array\n",
        "  inv_image_arr = 255 - image_arr\n",
        "  test_image_arr = inv_image_arr / 255.0                            #rescaling the image\n",
        "\n",
        "  #splitting image array into individual digit arrays\n",
        "  a = test_image_arr.any(0)\n",
        "  out = [test_image_arr[:,[*g]] for k, g in groupby(np.arange(len(a)), lambda x: a[x] != 0) if k]\n",
        "\n",
        "  num_of_elements = len(out)\n",
        "  elements_list = []\n",
        "\n",
        "  for i in range(0, num_of_elements):\n",
        "\n",
        "    j = out[i]\n",
        "    #adding 0 value columns as fillers\n",
        "    width1 = j.shape[1]\n",
        "    f = (test_image_arr.shape[0] - width1) / 2\n",
        "    \n",
        "    if f.is_integer() == False:    \n",
        "        fl = int(f)\n",
        "        fr = int(f) + 1\n",
        "    else:                              \n",
        "        fl = int(f)\n",
        "        fr = int(f)\n",
        "    \n",
        "    arr_l = np.zeros((test_image_arr.shape[0], fl)) #left fillers\n",
        "    arr_r = np.zeros((test_image_arr.shape[0], fr)) #right fillers\n",
        "    help_ = np.concatenate((arr_l, j), axis= 1)\n",
        "    element_arr = np.concatenate((help_, arr_r), axis= 1)\n",
        "    \n",
        "    element_arr.resize(28, 28, 1) #resize array 2d to 3d\n",
        "\n",
        "    #storing all elements in a list\n",
        "    elements_list.append(element_arr)\n",
        "\n",
        "\n",
        "    elements_array = np.array(elements_list)\n",
        "\n",
        "    'reshaping to fit model input criteria'\n",
        "    elements_array = elements_array.reshape(-1, 28, 28, 1)\n",
        "\n",
        "    'predicting using the model'\n",
        "    model = keras.models.load_model(\"model.h5\")\n",
        "    elements_pred =  model.predict(elements_array)\n",
        "    elements_pred = np.argmax(elements_pred, axis = 1)\n",
        "  print(elements_pred)\n",
        "  return(elements_pred)\n",
        "  "
      ],
      "execution_count": 24,
      "outputs": []
    },
    {
      "cell_type": "markdown",
      "metadata": {
        "id": "QJd3sytsJ-Bs"
      },
      "source": [
        "BODMAS"
      ]
    },
    {
      "cell_type": "code",
      "metadata": {
        "id": "kfIiG_kdC5sB"
      },
      "source": [
        "def bodmas(image_name):\n",
        "  elements_pred = pred(image_name)\n",
        "\n",
        "  op = {\n",
        "            10,   # = \"/\"\n",
        "            11,   # = \"+\"\n",
        "            12,   # = \"-\"\n",
        "            13    # = \"*\"\n",
        "        }   \n",
        "      \n",
        "  m_exp = []\n",
        "  temp = []\n",
        "          \n",
        "  'creating a list separating all elements'\n",
        "  for item in elements_pred:\n",
        "      if item not in op:\n",
        "          temp.append(item)\n",
        "      else:\n",
        "          m_exp.append(temp)\n",
        "          m_exp.append(item)\n",
        "          temp = []\n",
        "  if temp:\n",
        "      m_exp.append(temp)\n",
        "          \n",
        "  print(m_exp)    \n",
        "  'converting the elements to numbers and operators'\n",
        "  i = 0\n",
        "  num = 0\n",
        "  for item in m_exp:\n",
        "      if type(item) == list:\n",
        "          if not item:\n",
        "              m_exp[i] = \"\"\n",
        "              i = i + 1\n",
        "          else:\n",
        "              num_len = len(item)\n",
        "              for digit in item:\n",
        "                  num_len = num_len - 1\n",
        "                  num = num + ((10 ** num_len) * digit)\n",
        "              m_exp[i] = str(num)\n",
        "              num = 0\n",
        "              i = i + 1\n",
        "      else:\n",
        "          m_exp[i] = str(item)\n",
        "          m_exp[i] = m_exp[i].replace(\"10\",\"/\")\n",
        "          m_exp[i] = m_exp[i].replace(\"11\",\"+\")\n",
        "          m_exp[i] = m_exp[i].replace(\"12\",\"-\")\n",
        "          m_exp[i] = m_exp[i].replace(\"13\",\"*\")\n",
        "              \n",
        "          i = i + 1\n",
        "      \n",
        "  'joining the list of strings to create the mathematical expression'\n",
        "  separator = ' '\n",
        "  m_exp_str = separator.join(m_exp)\n",
        "      \n",
        "  'calculating the mathematical expression using eval()'\n",
        "  while True:\n",
        "      try:\n",
        "          answer = eval(m_exp_str)    #evaluating the answer\n",
        "          answer = round(answer, 2)\n",
        "          equation  = m_exp_str + \" = \" + str(answer)\n",
        "          print(equation)   #printing the equation\n",
        "          break\n",
        "\n",
        "      except SyntaxError:\n",
        "          print(\"Invalid predicted expression!!\")\n",
        "          print(\"Following is the predicted expression:\")\n",
        "          print(m_exp_str)\n",
        "          break"
      ],
      "execution_count": 25,
      "outputs": []
    },
    {
      "cell_type": "markdown",
      "metadata": {
        "id": "P9M4j68EKLfb"
      },
      "source": [
        "Normal Caluculation"
      ]
    },
    {
      "cell_type": "code",
      "metadata": {
        "id": "Sbk5UxlqPcV5"
      },
      "source": [
        "def calculate(image_name):\n",
        "  elements_pred = pred(image_name)\n",
        "    \n",
        "  op = {\n",
        "        10,   # = \"/\"\n",
        "        11,   # = \"+\"\n",
        "        12,   # = \"-\"\n",
        "        13    # = \"*\"\n",
        "        }   \n",
        "      \n",
        "  m_exp = []\n",
        "  temp = []\n",
        "          \n",
        "  'creating a list separating all elements'\n",
        "  for item in elements_pred:\n",
        "      if item not in op:\n",
        "          temp.append(item)\n",
        "      else:\n",
        "          m_exp.append(temp)\n",
        "          m_exp.append(item)\n",
        "          temp = []\n",
        "  if temp:\n",
        "      m_exp.append(temp)\n",
        "          \n",
        "  'converting the elements to numbers and operators'\n",
        "  i = 0\n",
        "  num = 0\n",
        "  for item in m_exp:\n",
        "      if type(item) == list:\n",
        "          if not item:\n",
        "              m_exp[i] = \"\"\n",
        "              i = i + 1\n",
        "          else:\n",
        "              num_len = len(item)\n",
        "              for digit in item:\n",
        "                  num_len = num_len - 1\n",
        "                  num = num + ((10 ** num_len) * digit)\n",
        "              m_exp[i] = str(num)\n",
        "              num = 0\n",
        "              i = i + 1\n",
        "      else:\n",
        "          m_exp[i] = str(item)\n",
        "          m_exp[i] = m_exp[i].replace(\"10\",\"/\")\n",
        "          m_exp[i] = m_exp[i].replace(\"11\",\"+\")\n",
        "          m_exp[i] = m_exp[i].replace(\"12\",\"-\")\n",
        "          m_exp[i] = m_exp[i].replace(\"13\",\"*\")\n",
        "              \n",
        "          i = i + 1\n",
        "  print(m_exp)\n",
        "  separator = ' '\n",
        "  m_exp_str = separator.join(m_exp)\n",
        "\n",
        "  i=0\n",
        "  ans = 0.0\n",
        "  for x in m_exp:\n",
        "    if x == '/':\n",
        "      ans = float(m_exp[i-1])/float(m_exp[i+1])\n",
        "      m_exp[i+1] = ans\n",
        "    elif x == '*':\n",
        "      ans = float(m_exp[i-1])*float(m_exp[i+1])\n",
        "      m_exp[i+1] = ans\n",
        "    elif x == '+':\n",
        "      ans = float(m_exp[i-1])+float(m_exp[i+1])\n",
        "      m_exp[i+1] = ans\n",
        "    elif x == '-':\n",
        "      ans = float(m_exp[i-1])-float(m_exp[i+1])\n",
        "      m_exp[i+1] = ans\n",
        "    i=i+1\n",
        "  ans = round(ans,2)\n",
        "  print(ans)\n",
        "  print(m_exp_str +\" = \"+ str(ans))"
      ],
      "execution_count": 26,
      "outputs": []
    },
    {
      "cell_type": "code",
      "metadata": {
        "colab": {
          "base_uri": "https://localhost:8080/",
          "height": 141
        },
        "id": "nh6ot64qKqBq",
        "outputId": "48a64ac1-f2a8-47e4-990e-840480379bb5"
      },
      "source": [
        "#from pred import pred, calculate\n",
        "from PIL import Image\n",
        "image = Image.open('test6.png').convert('L')\n",
        "image"
      ],
      "execution_count": 27,
      "outputs": [
        {
          "output_type": "execute_result",
          "data": {
            "image/png": "[encoded data removed]",
            "text/plain": [
              "<PIL.Image.Image image mode=L size=1426x159 at 0x7FF244833D10>"
            ]
          },
          "metadata": {},
          "execution_count": 27
        }
      ]
    },
    {
      "cell_type": "code",
      "metadata": {
        "colab": {
          "base_uri": "https://localhost:8080/"
        },
        "id": "FxidmlHiLuxG",
        "outputId": "dbf43040-86c5-465a-fa71-6e36d9d61f75"
      },
      "source": [
        "calculate('test6.png')"
      ],
      "execution_count": 28,
      "outputs": [
        {
          "output_type": "stream",
          "name": "stdout",
          "text": [
            "[ 2 11  4 13  3 10  9 11  5]\n",
            "['2', '+', '4', '*', '3', '/', '9', '+', '5']\n",
            "7.0\n",
            "2 + 4 * 3 / 9 + 5 = 7.0\n"
          ]
        }
      ]
    },
    {
      "cell_type": "code",
      "metadata": {
        "colab": {
          "base_uri": "https://localhost:8080/"
        },
        "id": "nT3HOFFIWzc_",
        "outputId": "3cad2ed6-7186-4f07-f32e-e7fa70939283"
      },
      "source": [
        "bodmas('test6.png')"
      ],
      "execution_count": 29,
      "outputs": [
        {
          "output_type": "stream",
          "name": "stdout",
          "text": [
            "[ 2 11  4 13  3 10  9 11  5]\n",
            "[[2], 11, [4], 13, [3], 10, [9], 11, [5]]\n",
            "2 + 4 * 3 / 9 + 5 = 8.33\n"
          ]
        }
      ]
    }
  ]
}